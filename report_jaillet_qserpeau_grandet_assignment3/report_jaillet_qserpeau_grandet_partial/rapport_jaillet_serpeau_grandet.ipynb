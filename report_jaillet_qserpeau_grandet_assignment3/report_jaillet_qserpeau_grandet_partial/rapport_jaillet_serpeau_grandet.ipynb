{
 "cells": [
  {
   "cell_type": "code",
   "execution_count": 1,
   "id": "04d586a9-4e84-4921-8d34-78de5496c9e1",
   "metadata": {},
   "outputs": [],
   "source": [
    "import numpy as np\n",
    "import pandas as pd\n",
    "import matplotlib.pyplot as plt\n",
    "import dm4bem"
   ]
  },
  {
   "attachments": {},
   "cell_type": "markdown",
   "id": "1aed3f51-5e7c-4181-b3dd-4d412005d8c8",
   "metadata": {},
   "source": [
    "# Building project Smart Cities"
   ]
  },
  {
   "attachments": {},
   "cell_type": "markdown",
   "id": "8f64d31f-0822-4524-842e-76bb71cfbb44",
   "metadata": {},
   "source": [
    "## Parameters\n",
    "### Dimension of the Building \n",
    "\n",
    "The bulding is composed of rooms with a cubic shape\n",
    "\n",
    "https://github.com/QuentinSerpeau/smartcities/blob/main/Model%20Ghiauss.png"
   ]
  },
  {
   "attachments": {},
   "cell_type": "markdown",
   "id": "64216932",
   "metadata": {},
   "source": [
    "The dimensions and surface areas of the building are:\n",
    "- $l=5 \\: \\mathrm{m}$ - edge length of the cube;\n",
    "- $S_d = 2*0.8$ surface of the door\n",
    "- $S_g = 5^{2}$ surface of the window \n",
    "- $S_{ce} = S_g$ surface of the exterior concrete walls;\n",
    "- $S_{ci} = S_g -S_d $ surface of the interior concrete wall minus the door's surface"
   ]
  },
  {
   "cell_type": "code",
   "execution_count": 2,
   "id": "5477e2f9-2735-48e5-9e32-2ff6fe034aa5",
   "metadata": {
    "tags": []
   },
   "outputs": [],
   "source": [
    "l = 5 #lenght and height of the cube\n",
    "Sd = 2*0.8 #surface of the door\n",
    "Sg = 5**2 #surface of the window \n",
    "Sce = Sg #surface of the exterior concrete walls\n",
    "Sci = Sg - Sd #surface of the interior concrete wall minus the door's surface"
   ]
  },
  {
   "attachments": {},
   "cell_type": "markdown",
   "id": "9e56fddc-ed2f-4162-ab85-ab3b641e8526",
   "metadata": {
    "tags": []
   },
   "source": [
    "### Thermo-Physical Properties\n",
    "The wall is made of a width of insulation and a width of concrete (eW=eI+eC)"
   ]
  },
  {
   "cell_type": "code",
   "execution_count": 3,
   "id": "9b62a3db-e4c2-4e7e-864a-aecd2231fd60",
   "metadata": {
    "tags": []
   },
   "outputs": [
    {
     "data": {
      "text/html": [
       "<div>\n",
       "<style scoped>\n",
       "    .dataframe tbody tr th:only-of-type {\n",
       "        vertical-align: middle;\n",
       "    }\n",
       "\n",
       "    .dataframe tbody tr th {\n",
       "        vertical-align: top;\n",
       "    }\n",
       "\n",
       "    .dataframe thead th {\n",
       "        text-align: right;\n",
       "    }\n",
       "</style>\n",
       "<table border=\"1\" class=\"dataframe\">\n",
       "  <thead>\n",
       "    <tr style=\"text-align: right;\">\n",
       "      <th></th>\n",
       "      <th>Density</th>\n",
       "      <th>Specific heat</th>\n",
       "    </tr>\n",
       "  </thead>\n",
       "  <tbody>\n",
       "    <tr>\n",
       "      <th>Air</th>\n",
       "      <td>1.2</td>\n",
       "      <td>1000</td>\n",
       "    </tr>\n",
       "  </tbody>\n",
       "</table>\n",
       "</div>"
      ],
      "text/plain": [
       "     Density  Specific heat\n",
       "Air      1.2           1000"
      ]
     },
     "execution_count": 3,
     "metadata": {},
     "output_type": "execute_result"
    }
   ],
   "source": [
    "concrete = {'Conductivity': 1.400,\n",
    "            'Density': 2400.0,\n",
    "            'Specific heat': 880,\n",
    "            'Width': 0.2,\n",
    "            'Surface': Sce}\n",
    "\n",
    "insulation = {'Conductivity': 0.027,\n",
    "              'Density': 55.0,\n",
    "              'Specific heat': 1210,\n",
    "              'Width': 0.1,\n",
    "              'Surface': Sce}\n",
    "\n",
    "oak = {'Conductivity': 0.16,\n",
    "              'Density': 780.0,\n",
    "              'Specific heat': 2400,\n",
    "              'Width': 0.1,\n",
    "              'Surface': Sd}\n",
    "\n",
    "glass = {'Conductivity': 1.4,\n",
    "         'Density': 2500,\n",
    "         'Specific heat': 1210,\n",
    "         'Width': 0.04,\n",
    "         'Surface': Sg}\n",
    "\n",
    "wall = pd.DataFrame.from_dict({'Layer_out': insulation,\n",
    "                               'Layer_in': concrete,\n",
    "                               'Glass': glass},\n",
    "                              orient='index')\n",
    "wall\n",
    "\n",
    "air = {'Density': 1.2,                      # kg/m³\n",
    "       'Specific heat': 1000}               # J/(kg·K)\n",
    "# pd.DataFrame.from_dict(air, orient='index', columns=['air'])\n",
    "pd.DataFrame(air, index=['Air'])"
   ]
  },
  {
   "attachments": {},
   "cell_type": "markdown",
   "id": "0dcd158b",
   "metadata": {},
   "source": [
    "### Radiative properties"
   ]
  },
  {
   "cell_type": "code",
   "execution_count": 4,
   "id": "ce27f02a",
   "metadata": {},
   "outputs": [
    {
     "name": "stdout",
     "output_type": "stream",
     "text": [
      "σ = 5.67e-08 W/(m²⋅K⁴)\n"
     ]
    }
   ],
   "source": [
    "# radiative properties\n",
    "ε_wLW = 0.85    # long wave emmisivity: wall surface (concrete)\n",
    "ε_gLW = 0.90    # long wave emmisivity: glass pyrex\n",
    "α_wSW = 0.25    # short wave absortivity: white smooth surface\n",
    "α_gSW = 0.38    # short wave absortivity: reflective blue glass\n",
    "τ_gSW = 0.30    # short wave transmitance: reflective blue glass\n",
    "\n",
    "σ = 5.67e-8     # W/(m²⋅K⁴) Stefan-Bolzmann constant\n",
    "print(f'σ = {σ} W/(m²⋅K⁴)')"
   ]
  },
  {
   "attachments": {},
   "cell_type": "markdown",
   "id": "63f74cf3",
   "metadata": {},
   "source": [
    "### Convection properties"
   ]
  },
  {
   "cell_type": "code",
   "execution_count": 5,
   "id": "a5bcdd13",
   "metadata": {},
   "outputs": [
    {
     "data": {
      "text/html": [
       "<div>\n",
       "<style scoped>\n",
       "    .dataframe tbody tr th:only-of-type {\n",
       "        vertical-align: middle;\n",
       "    }\n",
       "\n",
       "    .dataframe tbody tr th {\n",
       "        vertical-align: top;\n",
       "    }\n",
       "\n",
       "    .dataframe thead th {\n",
       "        text-align: right;\n",
       "    }\n",
       "</style>\n",
       "<table border=\"1\" class=\"dataframe\">\n",
       "  <thead>\n",
       "    <tr style=\"text-align: right;\">\n",
       "      <th></th>\n",
       "      <th>in</th>\n",
       "      <th>out</th>\n",
       "    </tr>\n",
       "  </thead>\n",
       "  <tbody>\n",
       "    <tr>\n",
       "      <th>0</th>\n",
       "      <td>8.0</td>\n",
       "      <td>25</td>\n",
       "    </tr>\n",
       "  </tbody>\n",
       "</table>\n",
       "</div>"
      ],
      "text/plain": [
       "    in  out\n",
       "0  8.0   25"
      ]
     },
     "execution_count": 5,
     "metadata": {},
     "output_type": "execute_result"
    }
   ],
   "source": [
    "h = pd.DataFrame([{'in': 8., 'out': 25}])  # W/(m²⋅K)\n",
    "h"
   ]
  },
  {
   "attachments": {},
   "cell_type": "markdown",
   "id": "b60e1fd8-406f-4e9f-ab2c-36f80326d170",
   "metadata": {},
   "source": [
    "### Thermal circuit"
   ]
  },
  {
   "attachments": {},
   "cell_type": "markdown",
   "id": "1f97471f",
   "metadata": {},
   "source": [
    "## Thermal circuit\n",
    "\n",
    "Heat transfert is:\n",
    "- through the walls (concrete and insulation), \n",
    "- through the glass window,\n",
    "- by ventilation,\n",
    "- from the HVAC system.\n",
    "\n",
    "The HVAC system is modelled as a proportional controller. There is long wave radiative exchange between the wall and the glass window. The sources are:\n",
    "- temperature sources:\n",
    "    - outdoor atmospheric air;\n",
    "    - indoor air temperature setpoint;\n",
    "- flow rate sources:\n",
    "    - solar radiation on the outdoor and the indoor walls;\n",
    "    - auxiliary heat gains in the thermal zone.\n",
    "\n",
    "Our model is described in the figure below :\n",
    "\n",
    "https://github.com/dm4bem-2023/Schema%20thermique.png  \n",
    "\n",
    "concrete & insulation wall: in red;\n",
    "glass window: in green;\n",
    "ventilation: in magenta;\n",
    "indoor volume: in blue (conductances 6 & 7 for convection; conductance 5 for long wave radiation between the walls and the glass window);\n",
    "HVAC system: in black.\n",
    "\n",
    "Then, we have our thermal circuit :\n",
    "\n",
    "https://github.com/Schema%20thermique.png  \n",
    "\n",
    "\n",
    "The sources are:\n",
    "\n",
    " T0  = outdoor temperature °C;\n",
    " Ti,sp setpoint temperaure for the indoor air, °C;\n",
    " ϕ0 solar radiation absorbed by the outdoor surface of the wall, W;\n",
    " ϕi solar radiation absorbed by the indoor surface of the wall, W;\n",
    " Qa auxiliary heat gains (i.e., occupants, electrical devices, etc.), W;\n",
    " ϕa solar radiation absorbed by the glass, W.\n"
   ]
  },
  {
   "attachments": {},
   "cell_type": "markdown",
   "id": "65b029a3",
   "metadata": {},
   "source": [
    "### Thermal coductances\n",
    "#### Conduction\n",
    "Conduction conductances, in W/K, are of the form:\n",
    "$$G_{cd} = \\frac{\\lambda}{w}S$$\n",
    "where:\n",
    "\n",
    "- $\\lambda$ - [thermal conductvity](https://en.m.wikipedia.org/wiki/Thermal_conductivity), W/(m⋅K);\n",
    "- $w$ - width of the material, m;\n",
    "- $S$ - surface area of the wall, m²."
   ]
  },
  {
   "cell_type": "code",
   "execution_count": 6,
   "id": "6888228f-8585-4394-a809-e0c4f36fd205",
   "metadata": {},
   "outputs": [
    {
     "data": {
      "text/html": [
       "<div>\n",
       "<style scoped>\n",
       "    .dataframe tbody tr th:only-of-type {\n",
       "        vertical-align: middle;\n",
       "    }\n",
       "\n",
       "    .dataframe tbody tr th {\n",
       "        vertical-align: top;\n",
       "    }\n",
       "\n",
       "    .dataframe thead th {\n",
       "        text-align: right;\n",
       "    }\n",
       "</style>\n",
       "<table border=\"1\" class=\"dataframe\">\n",
       "  <thead>\n",
       "    <tr style=\"text-align: right;\">\n",
       "      <th></th>\n",
       "      <th>Conductance</th>\n",
       "    </tr>\n",
       "  </thead>\n",
       "  <tbody>\n",
       "    <tr>\n",
       "      <th>Layer_out</th>\n",
       "      <td>6.75</td>\n",
       "    </tr>\n",
       "    <tr>\n",
       "      <th>Layer_in</th>\n",
       "      <td>175.00</td>\n",
       "    </tr>\n",
       "    <tr>\n",
       "      <th>Glass</th>\n",
       "      <td>875.00</td>\n",
       "    </tr>\n",
       "  </tbody>\n",
       "</table>\n",
       "</div>"
      ],
      "text/plain": [
       "           Conductance\n",
       "Layer_out         6.75\n",
       "Layer_in        175.00\n",
       "Glass           875.00"
      ]
     },
     "execution_count": 6,
     "metadata": {},
     "output_type": "execute_result"
    }
   ],
   "source": [
    "# Conduction\n",
    "G_cd = wall['Conductivity'] / wall['Width'] * wall['Surface']\n",
    "pd.DataFrame(G_cd, columns={'Conductance'})"
   ]
  },
  {
   "attachments": {},
   "cell_type": "markdown",
   "id": "fe8ad428",
   "metadata": {},
   "source": [
    "#### Convection\n",
    "Convection conductances, in W/K, are of the form:\n",
    "$$G_{cv} = {h S}$$\n",
    "where:\n",
    "- $h$ is the [convection coefficient](https://en.m.wikipedia.org/wiki/Heat_transfer_coefficient), W/(m²⋅K);\n",
    "- $S$ - surface area of the wall, m². "
   ]
  },
  {
   "cell_type": "code",
   "execution_count": 7,
   "id": "681f2155",
   "metadata": {},
   "outputs": [
    {
     "name": "stdout",
     "output_type": "stream",
     "text": [
      "Gw =       in  out\n",
      "0  200.0  625 W/K\n"
     ]
    }
   ],
   "source": [
    "# Convection wall\n",
    "Gw = h * wall['Surface'][0]\n",
    "print(f'Gw = {Gw} W/K')"
   ]
  },
  {
   "cell_type": "code",
   "execution_count": 8,
   "id": "ff13269e",
   "metadata": {},
   "outputs": [
    {
     "name": "stdout",
     "output_type": "stream",
     "text": [
      "Gg =       in  out\n",
      "0  200.0  625 W/K\n"
     ]
    }
   ],
   "source": [
    "# Convection glass\n",
    "Gg = h * wall['Surface'][2]     # glass\n",
    "print(f'Gg = {Gg} W/K')"
   ]
  },
  {
   "cell_type": "code",
   "execution_count": 9,
   "id": "5f75f2a2",
   "metadata": {
    "scrolled": true
   },
   "outputs": [
    {
     "name": "stdout",
     "output_type": "stream",
     "text": [
      "Fwg = 1.0\n"
     ]
    }
   ],
   "source": [
    "# For long wave radiation :\n",
    "\n",
    "# view factor wall-glass\n",
    "Fwg = glass['Surface'] / concrete['Surface']\n",
    "print(f'Fwg = {Fwg}')"
   ]
  },
  {
   "attachments": {},
   "cell_type": "markdown",
   "id": "56b2eafa",
   "metadata": {},
   "source": [
    "Fo now, we do not need these factors because it complicates the model and we don't take it into account for the moment"
   ]
  },
  {
   "attachments": {},
   "cell_type": "markdown",
   "id": "8cc53229",
   "metadata": {},
   "source": [
    "#### Advection\n",
    "\n",
    "The [volumetric flow rate](https://en.m.wikipedia.org/wiki/Volumetric_flow_rate) of the air, in m³/s, is:\n",
    "\n",
    "$$\\dot{V}_a = \\frac{\\mathrm{ACH}}{3600} V_a$$\n",
    "\n",
    "where:\n",
    "- $\\mathrm{ACH}$  ([air changes per hour](https://en.m.wikipedia.org/wiki/Air_changes_per_hour)) is the air infiltration rate, 1/h;\n",
    "- $3600$ - number of seconds in one hour, s/h;\n",
    "- $V_a$ - volume of the air in the thermal zone, m³."
   ]
  },
  {
   "cell_type": "code",
   "execution_count": 10,
   "id": "143bb254",
   "metadata": {},
   "outputs": [
    {
     "name": "stdout",
     "output_type": "stream",
     "text": [
      "Va_dot = 0.034722222222222224 m³/s\n"
     ]
    }
   ],
   "source": [
    "# Ventilation flow rate\n",
    "Va = l**3                   # m³, volume of air\n",
    "ACH = 1                     # air changes per hour\n",
    "Va_dot = ACH / 3600 * Va    # m³/s, air infiltration\n",
    "print(f'Va_dot = {Va_dot} m³/s')"
   ]
  },
  {
   "cell_type": "code",
   "execution_count": 11,
   "id": "9a08d9df",
   "metadata": {},
   "outputs": [
    {
     "name": "stdout",
     "output_type": "stream",
     "text": [
      "Gv = 41.66666666666667 W/K\n"
     ]
    }
   ],
   "source": [
    "# Ventilation & advection\n",
    "Gv = air['Density'] * air['Specific heat'] * Va_dot\n",
    "print(f'Gv = {Gv} W/K')"
   ]
  },
  {
   "attachments": {},
   "cell_type": "markdown",
   "id": "29b3d031",
   "metadata": {},
   "source": [
    "#### Proportional controller\n",
    "\n",
    "In the simplest representation, the [HVAC system](https://en.m.wikipedia.org/wiki/HVAC_control_system) can be considered as a [proportional controller](https://en.m.wikipedia.org/wiki/Proportional_control) that adjusts the heat flow rate $q_{HVAC}$ in order to control the indoor temperature $\\theta_i$ at its setpoint value $T_{i,sp}$. The heat flow-rate, in W, injected by the [HVAC](https://en.m.wikipedia.org/wiki/Heating,_ventilation,_and_air_conditioning) system into the controlled space is:\n",
    "\n",
    "$$ q_{HVAC} = K_p (T_{i, sp} - \\theta_i)$$\n",
    "\n",
    "where:\n",
    "- $K_p$ is the proportional gain, W/K;\n",
    "- $T_{i, sp}$ - indoor temperature [setpoint](https://en.m.wikipedia.org/wiki/Setpoint_(control_system)), °C (noted in majuscule because it is an *input, i.e. independent, variable*);\n",
    "- $\\theta_i$ - indoor temperature, °C (noted in minuscule because it is a *output, i.e. dependent variable*).\n"
   ]
  },
  {
   "cell_type": "code",
   "execution_count": 12,
   "id": "e3c85755",
   "metadata": {},
   "outputs": [],
   "source": [
    "# Proportionnal controller\n",
    "# P-controler gain\n",
    "Kp = 1e3            # almost perfect controller Kp -> ∞\n"
   ]
  },
  {
   "attachments": {},
   "cell_type": "markdown",
   "id": "141fe7bc",
   "metadata": {},
   "source": [
    "## Thermal Capacities\n",
    "### Walls"
   ]
  },
  {
   "attachments": {},
   "cell_type": "markdown",
   "id": "e467e3ba",
   "metadata": {},
   "source": [
    "### Thermal capacities\n",
    "#### Walls\n",
    "The [thermal capacities](https://en.m.wikipedia.org/wiki/Heat_capacity) of the wall, in J/kg, are:\n",
    "\n",
    "$$C_w= m_w c_w= \\rho_w c_w w_w S_w$$\n",
    "\n",
    "#### Air\n",
    "Similarly, the thermal capacity of the air, in J/kg, is:\n",
    "\n",
    "$$C_a = m_a c_a = \\rho_a c_a V_a$$"
   ]
  },
  {
   "cell_type": "code",
   "execution_count": 13,
   "id": "371d9969",
   "metadata": {},
   "outputs": [
    {
     "data": {
      "text/html": [
       "<div>\n",
       "<style scoped>\n",
       "    .dataframe tbody tr th:only-of-type {\n",
       "        vertical-align: middle;\n",
       "    }\n",
       "\n",
       "    .dataframe tbody tr th {\n",
       "        vertical-align: top;\n",
       "    }\n",
       "\n",
       "    .dataframe thead th {\n",
       "        text-align: right;\n",
       "    }\n",
       "</style>\n",
       "<table border=\"1\" class=\"dataframe\">\n",
       "  <thead>\n",
       "    <tr style=\"text-align: right;\">\n",
       "      <th></th>\n",
       "      <th>Capacity</th>\n",
       "    </tr>\n",
       "  </thead>\n",
       "  <tbody>\n",
       "    <tr>\n",
       "      <th>Layer_out</th>\n",
       "      <td>166375.0</td>\n",
       "    </tr>\n",
       "    <tr>\n",
       "      <th>Layer_in</th>\n",
       "      <td>10560000.0</td>\n",
       "    </tr>\n",
       "    <tr>\n",
       "      <th>Glass</th>\n",
       "      <td>3025000.0</td>\n",
       "    </tr>\n",
       "    <tr>\n",
       "      <th>Air</th>\n",
       "      <td>150000.0</td>\n",
       "    </tr>\n",
       "  </tbody>\n",
       "</table>\n",
       "</div>"
      ],
      "text/plain": [
       "             Capacity\n",
       "Layer_out    166375.0\n",
       "Layer_in   10560000.0\n",
       "Glass       3025000.0\n",
       "Air          150000.0"
      ]
     },
     "execution_count": 13,
     "metadata": {},
     "output_type": "execute_result"
    }
   ],
   "source": [
    "C = wall['Density'] * wall['Specific heat'] * wall['Surface'] * wall['Width']\n",
    "C['Air'] = air['Density'] * air['Specific heat'] * Va\n",
    "pd.DataFrame(C, columns={'Capacity'})"
   ]
  },
  {
   "attachments": {},
   "cell_type": "markdown",
   "id": "59214b2d",
   "metadata": {},
   "source": [
    "## System of algebraic_differential equations (DAE)\n",
    "### A : Incident Matrix"
   ]
  },
  {
   "attachments": {},
   "cell_type": "markdown",
   "id": "dd121359",
   "metadata": {},
   "source": [
    "> Figure 4. Matrices of the system of Differential-Algebraic Equations (DAE) \n",
    "\\begin{aligned}\n",
    "  &C \\dot{\\theta} = -(A^T G A) \\theta + A^T G b + f \\\\\n",
    "  &q = G (-A \\theta + b)\n",
    "\\end{aligned}"
   ]
  },
  {
   "attachments": {},
   "cell_type": "markdown",
   "id": "4640f756",
   "metadata": {},
   "source": [
    "### A: incidence matrix\n",
    "\n",
    "The [incidence matrix](https://en.m.wikipedia.org/wiki/Incidence_matrix) is:\n",
    "\n",
    "$A_{kl} = \\begin{cases}\\phantom{-}\n",
    "0 & \\text{if branch } q_k \\text{ is not connected to node }  \\theta_l \\\\ \n",
    "+1 & \\text{if branch } q_k \\text{ enters into node }  \\theta_l\\\\ \n",
    "-1 & \\text{if branch } q_k \\text{ gets out of node }  \\theta_l \n",
    "\\end{cases}$\n"
   ]
  },
  {
   "cell_type": "code",
   "execution_count": 14,
   "id": "07a3071d",
   "metadata": {},
   "outputs": [],
   "source": [
    "A = np.zeros([15, 9])       # n° of branches X n° of nodes\n",
    "A[0, 0] = 1                 # branch 0: -> node 0\n",
    "A[1, 0], A[1, 1] = -1, 1    # branch 1: node 0 -> node 1\n",
    "A[2, 1] = 1      # branch 2: node 1 \n",
    "A[3, 1] = 1 # branch 3: node 1 \n",
    "A[4, 1] = -1 # branch 4: node 1 \n",
    "A[4, 2] = 1 # branch 4: node 2\n",
    "A[5, 2] = -1 # branch 4 -> node 2\n",
    "A[5, 3] = 1 # branch 5 -> node 3\n",
    "A[14, 1] = -1 # branch 13 -> node 1\n",
    "A[14, 3] = 1 # branch 13 -> node 3\n",
    "A[12, 3] = 1 # branch 11 -> node 3\n",
    "A[13, 3] = 1 # branch 12 -> node 3\n",
    "A[6, 3] = -1 # branch 6 -> node 3\n",
    "A[6, 8] = 1 # branch 6 -> node 8\n",
    "A[7, 8] = -1 # branch 7 -> node 8\n",
    "A[7, 7] = 1 # branch 7 -> node 7\n",
    "A[8, 7] = -1 # branch 8 -> node 7\n",
    "A[8, 6] = 1 # branch 8 -> node 6\n",
    "A[9, 6] = -1 # branch 9 -> node 6\n",
    "A[9, 5] = 1 # branch 9 -> node 5\n",
    "A[10, 5] = -1 # branch 10 -> node 5\n",
    "A[10, 4] = 1 # branch 10 -> node 4\n",
    "A[11, 4] = -1 # branch 11 -> node 4\n",
    "\n",
    "\n",
    "# np.set_printoptions(suppress=False)\n",
    "# pd.DataFrame(A)"
   ]
  },
  {
   "attachments": {},
   "cell_type": "markdown",
   "id": "73292909",
   "metadata": {},
   "source": [
    "### G : Incident Matrix"
   ]
  },
  {
   "attachments": {},
   "cell_type": "markdown",
   "id": "70b9021c",
   "metadata": {},
   "source": [
    "### G: conductance matrix\n",
    "\n",
    "The conductance matrix of the themal circuit."
   ]
  },
  {
   "cell_type": "code",
   "execution_count": 15,
   "id": "89873158",
   "metadata": {},
   "outputs": [],
   "source": [
    "G = np.zeros([15, 15])       \n",
    "G[0, 0] = (h['out']*glass['Surface'])              \n",
    "G[1, 1] = (glass['Conductivity']*glass['Surface'])/glass['Width']\n",
    "G[2, 2] = Gv\n",
    "G[3, 3] = Kp\n",
    "G[4, 4] = (concrete['Conductivity']*concrete['Surface'])/(concrete['Width']/2) + (h['in']*concrete['Surface'])          \n",
    "G[5, 5] = (concrete['Conductivity']*concrete['Surface'])/(concrete['Width']/2) + (h['in']*concrete['Surface'])\n",
    "G[6, 6] = (h['in']*insulation['Surface'])\n",
    "G[7, 7] = (insulation['Conductivity']*insulation['Surface'])/(insulation['Width']/2)\n",
    "G[8, 8] = (insulation['Conductivity']*insulation['Surface'])/(insulation['Width']/2)                 \n",
    "G[9, 9] = (concrete['Conductivity']*concrete['Surface'])/(concrete['Width']/2)\n",
    "G[10, 10] = (concrete['Conductivity']*concrete['Surface'])/(concrete['Width']/2)\n",
    "G[11, 11] = (h['out']*concrete['Surface'])  \n",
    "G[12, 12] = Kp \n",
    "G[13, 13] = Gv           \n",
    "G[14, 14] = (h['in']*oak['Surface']) + (oak['Conductivity']*oak['Surface'])/oak['Width']\n",
    "\n",
    "\n",
    "# print(f'G = ', G)"
   ]
  },
  {
   "attachments": {},
   "cell_type": "markdown",
   "id": "791c0ce8",
   "metadata": {},
   "source": [
    "### C : Capacity Matrix"
   ]
  },
  {
   "attachments": {},
   "cell_type": "markdown",
   "id": "27fc4761",
   "metadata": {},
   "source": [
    "The capacity matrix of the themal circuit.\n",
    "The thermal capacities of the air and of the glass can be neglected or not."
   ]
  },
  {
   "cell_type": "code",
   "execution_count": 16,
   "id": "5f5e4b47",
   "metadata": {},
   "outputs": [],
   "source": [
    "neglect_air_glass = True\n",
    "\n",
    "if neglect_air_glass:\n",
    "    C = np.diag([0, 0, C['Layer_out'], 0, 0, C['Layer_out'], 0, C['Layer_in'],\n",
    "                 0])\n",
    "else:\n",
    "    C = np.diag([C['Glass'], C['Air'], C['Layer_out'], C['Air'], 0, C['Layer_out'], 0, C['Layer_in'], C['Glass']])\n",
    "\n",
    "# pd.set_option(\"display.precision\", 3)\n",
    "# pd.DataFrame(C)"
   ]
  },
  {
   "attachments": {},
   "cell_type": "markdown",
   "id": "e08a1ad8",
   "metadata": {},
   "source": [
    "### b : temperature source vector "
   ]
  },
  {
   "attachments": {},
   "cell_type": "markdown",
   "id": "5eba9cec",
   "metadata": {},
   "source": [
    "The vector of *temperature sources* is $b$, of size $n_q$, the number of branches. An element of the vector $b$ corresponding to a branch without a source is zero. If the flow in a source is from the low potential to the high potential of the source (i.e. from - to +), then the source is positive. If the flow rate in the temperature source is from high potential to low potential (i.e. from + to -), then the source is negative (see [passive sign convention](https://en.m.wikipedia.org/wiki/Passive_sign_convention)). "
   ]
  },
  {
   "cell_type": "code",
   "execution_count": 17,
   "id": "213fc011",
   "metadata": {},
   "outputs": [
    {
     "name": "stdout",
     "output_type": "stream",
     "text": [
      "b =  [1. 0. 1. 1. 0. 0. 0. 0. 0. 0. 0. 1. 1. 1. 0.]\n"
     ]
    }
   ],
   "source": [
    "b = np.zeros(15)        # nombre de branches\n",
    "b[[0, 2, 3, 11, 12, 13]] = 1   # branches with temperature sources\n",
    "print(f'b = ', b)"
   ]
  },
  {
   "attachments": {},
   "cell_type": "markdown",
   "id": "4186422d",
   "metadata": {},
   "source": [
    "### f : heat flow source  vector "
   ]
  },
  {
   "attachments": {},
   "cell_type": "markdown",
   "id": "3af9d823",
   "metadata": {},
   "source": [
    "The vector of *heat sources* is $f$, of size $n_{\\theta}$, the number of nodes. An element of the vector $f$ corresponding to a node without a heat source is zero.\n",
    "\n",
    "For the thermal circuit shown in Figure 3,\n",
    "\n",
    "$$f = [\\begin{matrix}\n",
    "\\Phi_o &0  &0  &0  &\\Phi_i  &0  &\\dot{Q_a} &\\Phi_a \n",
    "\\end{matrix}]^T$$\n",
    "\n",
    "i.e. $f_0 = \\Phi_o$, $f_4 = \\Phi_i$, $f_6 = \\dot{Q_a}$, and $f_7 = \\Phi_a$, where:\n",
    "- $\\Phi_o$ - solar radiation absorbed by the outdoor surface of the wall, W;\n",
    "- $\\Phi_i$ - solar radiation absorbed by the indoor surface of the wall, W;\n",
    "- $\\dot{Q}_a$ - auxiliary heat gains (i.e., occupants, electrical devices, etc.), W;\n",
    "- $\\Phi_a$ - solar radiation absorbed by the glass, W.\n",
    "\n",
    "Since the flow rate sorces $\\Phi_o$, $\\Phi_i$, $\\dot{Q}_a$ and $\\Phi_a$ are [time series](https://en.m.wikipedia.org/wiki/Time_series), in vector $f$ the nodes which contain flow rate sources are designated by $1$ and the  nodes without any flow rate source by $0$."
   ]
  },
  {
   "cell_type": "code",
   "execution_count": 18,
   "id": "7ce275aa",
   "metadata": {},
   "outputs": [
    {
     "name": "stdout",
     "output_type": "stream",
     "text": [
      "f =  [1. 1. 0. 1. 1. 0. 0. 0. 0.]\n"
     ]
    }
   ],
   "source": [
    "f = np.zeros(9)         # nodes\n",
    "f[[0, 1, 3, 4]] = 1     # nodes with heat-flow sources\n",
    "print(f'f = ', f)"
   ]
  },
  {
   "attachments": {},
   "cell_type": "markdown",
   "id": "908104c3",
   "metadata": {},
   "source": [
    "### y : output vector "
   ]
  },
  {
   "attachments": {},
   "cell_type": "markdown",
   "id": "77f4cc93",
   "metadata": {},
   "source": [
    "The vector of outputs is $y$, of size $n_{\\theta}$, the number of nodes (in this example 8). The non-zero values of $y$ indicate the nodes which are the outputs of the model.\n",
    "\n",
    "For the thermal circuit shown in Figure 3, if the output is the indoor air temperature, then the output vector is:\n",
    "\n",
    "$$y = [\\begin{matrix}\n",
    "0  &0  &0  &0  &0  &0  &\\theta_6 &0 \n",
    "\\end{matrix}]^T$$\n",
    "\n",
    "In vector $y$, the nodes for which the temperatures are outputs are noted by $1$ and the other nodes by $0$."
   ]
  },
  {
   "cell_type": "code",
   "execution_count": 19,
   "id": "3827a0db",
   "metadata": {},
   "outputs": [
    {
     "name": "stdout",
     "output_type": "stream",
     "text": [
      "y =  [0. 1. 0. 1. 0. 0. 0. 0. 0.]\n"
     ]
    }
   ],
   "source": [
    "y = np.zeros(9)         # nodes\n",
    "y[[1, 3]] = 1              # nodes (temperatures) of interest\n",
    "print(f'y = ', y)"
   ]
  },
  {
   "attachments": {},
   "cell_type": "markdown",
   "id": "97e1495c",
   "metadata": {},
   "source": [
    "## State-space representation\n"
   ]
  },
  {
   "attachments": {},
   "cell_type": "markdown",
   "id": "01ea7ad7",
   "metadata": {},
   "source": [
    "## State-space representation\n",
    "The [differential-algebraic system of equations (DAE)](https://en.m.wikipedia.org/wiki/Differential-algebraic_system_of_equations)\n",
    "\n",
    "$$C \\dot{\\theta} = -(A^T G A) \\theta + A^T G b + f$$\n",
    "\n",
    "is transformed in [state-space representation](https://en.m.wikipedia.org/wiki/State-space_representation) :\n",
    "\n",
    "$$\\left\\{\\begin{array}{rr}\n",
    "\\dot{\\theta}_s=A_s \\theta_s + B_s u\\\\ \n",
    "y = C_s \\theta_s + D_s u\n",
    "\\end{array}\\right.$$\n",
    "\n",
    "where:\n",
    "- $\\theta_s$ is the vector of state variables which are the temperatures of nodes containing capacities; the elements are in the same order as in the vector of temperatures, $\\theta$; its dimension, $\\dim \\theta_s$, is equal to the number of capacities from the thermal network; for the circuit presented in Figure 3, $\\theta_s = [\\theta_1, \\theta_3, \\theta_6, \\theta_7]^T$;\n",
    "\n",
    "- $u = \\begin{bmatrix} b_T \\\\ f_Q\\end{bmatrix}$ - vector of inputs of dimension $\\dim u$ equal to the number of sources (of temperaure, $b_T$, and heat flows, $f_Q$) of the thermal network, where:\n",
    "\n",
    "    - vector $b_T$ of nonzero elements of vector $b$ of temperature sources; for the circuit presented in Figure 3, $b_T = [T_o, T_o, T_o, T_{i,sp}]^T$ corresponds to branches 0, 8, 10 and 11; \n",
    "    - vector $f_Q$ of nonzero elements of vector $f$ of flow sources; for the circuit presented in Figure 3, $f_Q = [\\Phi_o, \\Phi_i, \\dot{Q}_a, \\Phi_a]^T$ corresponds to nodes 0, 4, 6, and 7;\n",
    "    \n",
    "    \n",
    "- $y$ - vector of outputs, a subset of vector $\\theta$ representing temperature nodes which are of interest; for the circuit presented in Figure 3, $y = \\theta_6$, the indoor temperature;\n",
    "\n",
    "- $A_s$ - state matrix, of dimension $\\dim A_s = \\dim {\\theta_s} \\times \\dim {\\theta_s}$;\n",
    "\n",
    "- $B_s$ - input matrix, of dimension $\\dim B_s = \\dim {\\theta_s} \\times \\dim u$;\n",
    "\n",
    "- $C_s$ - output matrix, of dimension $\\dim C_s = \\dim y \\times \\dim {\\theta_s}$;\n",
    "\n",
    "- $D_s$ - feedthrough (or feedforward) matrix, of dimension $\\dim D_s = \\dim y \\times \\dim u$.\n",
    "\n"
   ]
  },
  {
   "cell_type": "code",
   "execution_count": 20,
   "id": "99fba495",
   "metadata": {},
   "outputs": [],
   "source": [
    "[As, Bs, Cs, Ds] = dm4bem.tc2ss(A, G, b, C, f, y)\n",
    "# print('As = \\n', As, '\\n')\n",
    "# print('Bs = \\n', Bs, '\\n')\n",
    "# print('Cs = \\n', Cs, '\\n')\n",
    "# print('Ds = \\n', Ds, '\\n')"
   ]
  },
  {
   "attachments": {},
   "cell_type": "markdown",
   "id": "739551c4",
   "metadata": {},
   "source": [
    "### Steady State"
   ]
  },
  {
   "attachments": {},
   "cell_type": "markdown",
   "id": "25c1587b",
   "metadata": {},
   "source": [
    "First we are going to check the model in steady state to see if it is correct.\n",
    "We are going to consider that : \n",
    "\n",
    "- The controller is not active, $K_p \\rightarrow 0$,\n",
    "- The outdoor temperature is $T_o = 10 \\, \\mathrm{^\\circ C}$,\n",
    "- The indoor temperature setpoint is $T_{i,sp} = 20 \\, \\mathrm{^\\circ C}$,\n",
    "- All flow rate sources are zero."
   ]
  },
  {
   "cell_type": "code",
   "execution_count": 21,
   "id": "84f8da07",
   "metadata": {},
   "outputs": [
    {
     "name": "stdout",
     "output_type": "stream",
     "text": [
      "b =  [ 10.   0.  10.  20.   0.   0.   0.   0.   0.   0.   0. -10.  20.  10.\n",
      "   0.]\n",
      "f =  [0. 0. 0. 0. 0. 0. 0. 0. 0.]\n"
     ]
    }
   ],
   "source": [
    "b = np.zeros(15)        # temperature sources\n",
    "b[[0, 13, 2]] = 10      # outdoor temperature\n",
    "b[[11]] = -10           # outdoor temperature due to the direction of arrows\n",
    "b[[3, 12]] = 20         # indoor set-point temperature\n",
    "print(f'b = ', b)\n",
    "\n",
    "f = np.zeros(9)         # flow-rate sources\n",
    "print(f'f = ', f)"
   ]
  },
  {
   "attachments": {},
   "cell_type": "markdown",
   "id": "386c86d3",
   "metadata": {},
   "source": [
    "### System of Diferential Algebraic Equations (DAE)\n",
    "The value of temperature in [steady-state](https://en.m.wikipedia.org/wiki/Steady_state) is obtained from the system of DAE by considering that $C \\dot{\\theta} = 0$:\n",
    "\n",
    "$$\\theta_{ss} = (A^T G A)^{-1}(A^T G b + f)$$\n",
    "\n",
    "For the conditions mentioned above, in steady-state, all temperatures are equal to $T_o = 10 \\, \\mathrm{^\\circ C}$."
   ]
  },
  {
   "cell_type": "code",
   "execution_count": 22,
   "id": "133c0ad8",
   "metadata": {},
   "outputs": [
    {
     "name": "stdout",
     "output_type": "stream",
     "text": [
      "θ = [14.34557734 17.44956116 18.26913922 19.08871729 10.09062525 10.25245604\n",
      " 10.41428684 14.60990012 18.8055134 ] °C\n"
     ]
    }
   ],
   "source": [
    "θ = np.linalg.inv(A.T @ G @ A) @ (A.T @ G @ b + f)\n",
    "print(f'θ = {θ} °C')"
   ]
  },
  {
   "cell_type": "code",
   "execution_count": 23,
   "id": "678acd8a",
   "metadata": {},
   "outputs": [],
   "source": [
    "[As, Bs, Cs, Ds] = dm4bem.tc2ss(A, G, b, C, f, y)\n",
    "# print('As = \\n', As, '\\n')\n",
    "#print('Bs = \\n', Bs, '\\n')\n",
    "# print('Cs = \\n', Cs, '\\n')\n",
    "# print('Ds = \\n', Ds, '\\n')"
   ]
  },
  {
   "attachments": {},
   "cell_type": "markdown",
   "id": "c5bfc1cd",
   "metadata": {},
   "source": [
    "### State-space representation\n",
    "The input vector $u$ is obtained by stacking the vectors $b_T$ and $f_Q$:\n",
    "\n",
    "$$u = \\begin{bmatrix} b_T \\\\ f_Q\\end{bmatrix}$$\n",
    "\n",
    "where:\n",
    "- $b_T$ is a vector of the nonzero elements of vector $b$ of temperature sources. For our  circuit, $b_T = [T_o, T_o, T_{i,sp},T_o, T_{i,sp},T_o]^T$ corresponding to branches 0, 2, 3, 11, 12, 13 where:\n",
    "    - $T_o$ - outdoor temperature, °C;\n",
    "    - $T_{i,sp}$ - set-point temperaure for the indoor air, °C.\n",
    "- $f_Q$ - vector the nonzero elements of vector $f$ of flow sources. For the circuit presented in Figure 3, $f_Q = [\\Phi_a, \\Phi_i, \\Phi_o , \\Phi_i]^T$ corresponding to nodes 0, 1, 4, and 8 where:\n",
    "    - $\\Phi_o$ - solar radiation absorbed by the outdoor surface of the wall, W;\n",
    "    - $\\Phi_i$ - solar radiation absorbed by the indoor surface of the wall, W;\n",
    "    - $\\Phi_a$ - solar radiation absorbed by the glass, W.\n",
    "\n",
    "*Note*: Zero in vectors $b$ and $f$ indicates that there is no source on the branch or in the node, respectively. However, a source can have the value zero."
   ]
  },
  {
   "cell_type": "code",
   "execution_count": 24,
   "id": "c2d68c56",
   "metadata": {},
   "outputs": [
    {
     "name": "stdout",
     "output_type": "stream",
     "text": [
      "u = [[10  0]\n",
      " [10  0]\n",
      " [20  0]\n",
      " [10  0]\n",
      " [20  0]\n",
      " [10  0]]\n"
     ]
    }
   ],
   "source": [
    "bT = np.array([[10], [10], [20], [10], [20], [10]])     # [To, To, Tisp, To, Tisp, To]\n",
    "fQ = np.array([[0], [0], [0], [0], [0], [0]])         # [Φa, Φi, Φo, Φi]\n",
    "u = np.hstack([bT, fQ])\n",
    "print(f'u = {u}')"
   ]
  },
  {
   "attachments": {},
   "cell_type": "markdown",
   "id": "48cbf186",
   "metadata": {},
   "source": [
    "The steady-state value of the output of the state-space representation is obtained when $\\dot \\theta_{C} = 0$:\n",
    "\n",
    "$$y_{ss} = (-C_s A_s^{-1} B_s + D_s) u$$"
   ]
  },
  {
   "cell_type": "code",
   "execution_count": 25,
   "id": "b6cafda0",
   "metadata": {},
   "outputs": [
    {
     "name": "stdout",
     "output_type": "stream",
     "text": [
      "yss = [[17.43300709  0.        ]\n",
      " [18.9919898   0.        ]] °C\n"
     ]
    }
   ],
   "source": [
    "yss = (-Cs @ np.linalg.inv(As) @ Bs + Ds) @ u\n",
    "print(f'yss = {yss} °C')                "
   ]
  },
  {
   "attachments": {},
   "cell_type": "markdown",
   "id": "277ee784",
   "metadata": {},
   "source": [
    "The error between the steady-state values obtained from the system of DAE, $\\theta_1$ and $\\theta_3$, and the output of the state-space representation, $y_{ss}$, \n",
    "\n",
    "$$\\varepsilon_{1} = \\left | \\theta_1 - y_{ss} \\right |$$\n",
    "$$\\varepsilon_{2} = \\left | \\theta_3 - y_{ss} \\right |$$\n",
    "\n",
    "\n",
    "is practically zero; the slight difference is due to [numerical errors](https://en.m.wikipedia.org/wiki/Numerical_error)."
   ]
  },
  {
   "cell_type": "code",
   "execution_count": 26,
   "id": "05483ed7",
   "metadata": {},
   "outputs": [
    {
     "name": "stdout",
     "output_type": "stream",
     "text": [
      "eps1 = 1.66e-02 °C\n",
      "eps2 = 9.67e-02 °C\n",
      "Max error between DAE and state-space =  9.67e-02 °C\n"
     ]
    }
   ],
   "source": [
    "eps_1=(abs(θ[1] - yss[0,0])) #on calcule l'erreur dans chacune des pièces\n",
    "print(f'eps1 = \\\n",
    "{eps_1:.2e} °C')\n",
    "eps_2=(abs(θ[3] - yss[1,0])) #on calcule l'erreur dans chacune des pièces\n",
    "print(f'eps2 = \\\n",
    "{eps_2:.2e} °C')\n",
    "print(f'Max error between DAE and state-space =  \\\n",
    "{max(eps_1,eps_2):.2e} °C')"
   ]
  },
  {
   "attachments": {},
   "cell_type": "markdown",
   "id": "43ee071d",
   "metadata": {},
   "source": [
    "## Dynamic Simulation"
   ]
  },
  {
   "attachments": {},
   "cell_type": "markdown",
   "id": "dc9bf1e4",
   "metadata": {},
   "source": [
    "### Time step\n",
    "\n",
    "The condition for [numerical stability](https://en.m.wikipedia.org/wiki/Euler_method#Numerical_stability) of [Euler explicit integration](https://en.m.wikipedia.org/wiki/Numerical_methods_for_ordinary_differential_equations#Euler_method) method is\n",
    "\n",
    "$$\\left |  \\lambda_i \\Delta t + 1 \\right | < 1, \\forall \\lambda_i, $$\n",
    "\n",
    "i.e. in the complex plane, $\\lambda_i \\Delta t$ is inside a circle of radius 1 centered in {-1, 0j}, where:\n",
    "- $\\lambda_i$ are the eigenvalues of matrix $A_s$,\n",
    "- $\\Delta t$ - time step.\n",
    "\n",
    "For positive real eigenvalues $\\left \\{ \\lambda \\in \\Re |\\lambda >0  \\right \\}$, which is the case of thermal networks, the above condition [becomes](http://www.math.iit.edu/~fass/478578_Chapter_4.pdf)\n",
    "\n",
    "$$- \\lambda_i \\Delta t - 1  < 1, \\forall \\lambda_i, $$\n",
    "\n",
    "or\n",
    "\n",
    "$$ 0 < \\Delta t < -\\frac{2}{\\min \\lambda_i} = 2 \\min -\\frac{1}{\\lambda_i} = 2 \\min T_i$$\n",
    "\n",
    "where $T_i$ are the [time constants](https://en.m.wikipedia.org/wiki/Time_constant), $T_i = - \\frac{1}{\\lambda_i} $"
   ]
  },
  {
   "cell_type": "code",
   "execution_count": 27,
   "id": "9151c758",
   "metadata": {},
   "outputs": [
    {
     "name": "stdout",
     "output_type": "stream",
     "text": [
      "Time constants : \n",
      " [2.19819492e+02 4.25661385e+05 7.00913418e+02] s \n",
      "\n",
      "2 x Time constants : \n",
      " [4.39638984e+02 8.51322770e+05 1.40182684e+03] s \n",
      "\n",
      "Maximum time step: 439.638984 s = 7.327316 min\n"
     ]
    }
   ],
   "source": [
    "λ = np.linalg.eigvals(As)    # eigenvalues of matrix As\n",
    "\n",
    "print('Time constants : \\n', -1 / λ, 's \\n')\n",
    "print('2 x Time constants : \\n', -2 / λ, 's \\n')\n",
    "dtmax = 2 * min(-1. / λ)\n",
    "print(f'Maximum time step: {dtmax:.6f} s = {dtmax / 60:.6f} min')"
   ]
  },
  {
   "attachments": {},
   "cell_type": "markdown",
   "id": "d05f6115",
   "metadata": {},
   "source": [
    "Let's chose a time step smaller than $\\Delta t_{max} = \\min (-2 / \\lambda_i) $."
   ]
  },
  {
   "cell_type": "code",
   "execution_count": 28,
   "id": "11802b60",
   "metadata": {},
   "outputs": [
    {
     "name": "stdout",
     "output_type": "stream",
     "text": [
      "dt = 420.0 s = 7 min\n"
     ]
    }
   ],
   "source": [
    "# time step\n",
    "\n",
    "dt = np.floor(dtmax / 60) * 60   # s\n",
    "print(f'dt = {dt} s = {dt / 60:.0f} min')"
   ]
  },
  {
   "attachments": {},
   "cell_type": "markdown",
   "id": "0f465d35",
   "metadata": {},
   "source": [
    "pour avoir time step pas trop court approximation de négligence capacité de l'air et de la vitre "
   ]
  },
  {
   "attachments": {},
   "cell_type": "markdown",
   "id": "d3ae0f9f",
   "metadata": {},
   "source": [
    "### Settling time\n",
    "Settling time is roughly 4 times the larger time constant."
   ]
  },
  {
   "cell_type": "code",
   "execution_count": 29,
   "id": "605c13e0",
   "metadata": {},
   "outputs": [
    {
     "name": "stdout",
     "output_type": "stream",
     "text": [
      "4 * Time constants: \n",
      " [    876    2800 1702644] s \n",
      "\n",
      "Settling time: 1702646 s = 28377.4 min = 472.96 h = 19.71 days\n"
     ]
    }
   ],
   "source": [
    "# settling time\n",
    "time_const = np.array([int(x) for x in sorted(-1 / λ)])\n",
    "print('4 * Time constants: \\n', 4 * time_const, 's \\n')\n",
    "\n",
    "t_settle = 4 * max(-1 / λ)\n",
    "print(f'Settling time: \\\n",
    "{t_settle:.0f} s = \\\n",
    "{t_settle / 60:.1f} min = \\\n",
    "{t_settle / (3600):.2f} h = \\\n",
    "{t_settle / (3600 * 24):.2f} days')"
   ]
  },
  {
   "attachments": {},
   "cell_type": "markdown",
   "id": "8c49e341",
   "metadata": {},
   "source": [
    "### Step response\n",
    "We are now going to determine the dynamic response of the system to a step input."
   ]
  },
  {
   "attachments": {},
   "cell_type": "markdown",
   "id": "c0f1bdd6",
   "metadata": {},
   "source": [
    "#### Duration\n",
    "We pay attention to make the duration of the simulation larger than the estimated settling time. Then it will give a number of time steps in the time vector"
   ]
  },
  {
   "cell_type": "code",
   "execution_count": 30,
   "id": "3ef300c7",
   "metadata": {},
   "outputs": [
    {
     "name": "stdout",
     "output_type": "stream",
     "text": [
      "Duration = 17028.0 s\n",
      "Number of time steps = 40\n"
     ]
    }
   ],
   "source": [
    "# Step response\n",
    "# -------------\n",
    "# Find the next multiple of 3600 s that is larger than t_settle\n",
    "duration = np.ceil(t_settle / 3600) * 3600/100\n",
    "n = int(np.floor(duration / dt))    # number of time steps\n",
    "t = np.arange(0, n * dt, dt)        # time vector for n time steps\n",
    "\n",
    "print(f'Duration = {duration} s')\n",
    "print(f'Number of time steps = {n}')\n",
    "# pd.DataFrame(t, columns=['time'])"
   ]
  },
  {
   "attachments": {},
   "cell_type": "markdown",
   "id": "2e3c2a82",
   "metadata": {},
   "source": [
    "#### Input vector\n",
    "The input vector as the same shape as in the last part : \n",
    "$$\n",
    "u = \\begin{bmatrix}\n",
    "b_T \\\\\n",
    "f_Q\n",
    "\\end{bmatrix}\n",
    "$$\n"
   ]
  },
  {
   "cell_type": "code",
   "execution_count": 31,
   "id": "0f3db3b3",
   "metadata": {},
   "outputs": [],
   "source": [
    "u = np.zeros([10, n])                # u = [To To Tips To Tisp To Φa, Φi, Φi, Φa]\n",
    "u[0:2, :] = 10 * np.ones([2, n])    # To = 10 for n time steps (0, 1)\n",
    "u[2, :] = 20 * np.ones([1, n])      # Tisp = 20 for n time steps (2)\n",
    "u[3, :] = 10 * np.ones([1, n])      # To = 10 for n time steps (3)\n",
    "u[4, :] = 20 * np.ones([1, n])      # To = 20 for n time steps (4)\n",
    "u[5, :] = 10 * np.ones([1, n])      # To = 10 for n time steps (5)\n",
    "\n",
    "# pd.DataFrame(u)"
   ]
  },
  {
   "attachments": {},
   "cell_type": "markdown",
   "id": "16b00bca",
   "metadata": {},
   "source": [
    "#### Time Integration"
   ]
  },
  {
   "attachments": {},
   "cell_type": "markdown",
   "id": "b8fc0f61",
   "metadata": {},
   "source": [
    "By integrating the state-space model\n",
    "\n",
    "$$\\left\\{\\begin{array}{rr}\n",
    "\\dot{\\theta}_C=A_s \\theta_C + B_s u\\\\ \n",
    "y = C_s \\theta_C + D_s u\n",
    "\\end{array}\\right.$$\n",
    "\n",
    "by using [Euler forward (or explicit) method](https://en.m.wikipedia.org/wiki/Numerical_methods_for_ordinary_differential_equations#Euler_method) for numerical integration:\n",
    "\n",
    "$$ \\theta_{s,k+1} = (I + \\Delta t A) \\theta_{s,k} + \\Delta t B u_k $$\n",
    "\n",
    "and [Euler backward (or implicit) method](https://en.m.wikipedia.org/wiki/Numerical_methods_for_ordinary_differential_equations#Backward_Euler_method) for numerical integration:\n",
    "\n",
    "$$\\theta_{s,k+1} = (I - \\Delta t A)^{-1} ( \\theta_{s,k} + \\Delta t B u_k )$$\n",
    "\n",
    "where $k = 0, ... , n - 1$,"
   ]
  },
  {
   "cell_type": "code",
   "execution_count": 32,
   "id": "05b59ddc",
   "metadata": {},
   "outputs": [
    {
     "name": "stdout",
     "output_type": "stream",
     "text": [
      "b =  [10.  0. 10. 20.  0.  0.  0.  0.  0.  0.  0. 10. 20. 10.  0.]\n",
      "f =  [1. 1. 0. 0. 1. 0. 0. 0. 1.]\n"
     ]
    }
   ],
   "source": [
    "np.shape(u)\n",
    "f = np.zeros(9)         # flow-rate sources\n",
    "f[[0,1,4,8]] = 1\n",
    "\n",
    "b = np.zeros(15)        # nombre de branches\n",
    "\n",
    "b[0] = 10    # branches with temperature sources\n",
    "b[2] = 10\n",
    "b[3] = 20\n",
    "b[11] = 10\n",
    "b[12] = 20\n",
    "b[13] = 10\n",
    "\n",
    "print(f'b = ', b)\n",
    "print(f'f = ', f)\n",
    "\n",
    "\n",
    "[As, Bs, Cs, Ds] = dm4bem.tc2ss(A, G, b, C, f, y)\n",
    "#print('As = \\n', As, '\\n')\n",
    "#print('Bs = \\n', Bs, '\\n')\n",
    "#print('Cs = \\n', Cs, '\\n')\n",
    "#print('Ds = \\n', Ds, '\\n')"
   ]
  },
  {
   "cell_type": "code",
   "execution_count": 33,
   "id": "1bfa4ffb",
   "metadata": {},
   "outputs": [],
   "source": [
    "n_s = As.shape[0]                      # number of state variables\n",
    "θ_exp = np.zeros([n_s, t.shape[0]])    # explicit Euler in time t\n",
    "θ_imp = np.zeros([n_s, t.shape[0]])    # implicit Euler in time t\n",
    "\n",
    "I = np.eye(n_s)                        # identity matrix\n",
    "\n",
    "for k in range(n - 1):\n",
    "    θ_exp[:, k + 1] = (I + dt * As) @\\\n",
    "        θ_exp[:, k] + dt * Bs @ u[:, k]\n",
    "    θ_imp[:, k + 1] = np.linalg.inv(I - dt * As) @\\\n",
    "        (θ_imp[:, k] + dt * Bs @ u[:, k])\n",
    "        \n",
    "# print(θ_imp)\n"
   ]
  },
  {
   "attachments": {},
   "cell_type": "markdown",
   "id": "9eb84390",
   "metadata": {},
   "source": [
    "we then obtain the output : \n",
    "\n",
    "$$ y = C_s \\theta_s + D_s u$$\n",
    "\n",
    "for explicit and for implicit Euler methods, respectively. "
   ]
  },
  {
   "cell_type": "code",
   "execution_count": 34,
   "id": "c439548d",
   "metadata": {},
   "outputs": [],
   "source": [
    "y_exp = Cs @ θ_exp + Ds @  u\n",
    "y_imp = Cs @ θ_imp + Ds @  u\n",
    "# print(y_exp)\n"
   ]
  },
  {
   "attachments": {},
   "cell_type": "markdown",
   "id": "e94c9664",
   "metadata": {},
   "source": [
    "The results of explicit and implicit Euler integration are practically identical."
   ]
  },
  {
   "cell_type": "code",
   "execution_count": 35,
   "id": "c2de8e11",
   "metadata": {},
   "outputs": [
    {
     "data": {
      "image/png": "[encoded data removed]",
      "text/plain": [
       "<Figure size 432x288 with 1 Axes>"
      ]
     },
     "metadata": {
      "needs_background": "light"
     },
     "output_type": "display_data"
    }
   ],
   "source": [
    "fig, ax = plt.subplots()\n",
    "ax.plot(t/3600, y_imp.T)\n",
    "ax.set(xlabel='Time, $t$ / h',\n",
    "       ylabel='Temperatue, $θ_i$ / °C',\n",
    "       title='Indoor temperature ')\n",
    "ax.legend(['Explicit', 'Implicit'])\n",
    "ax.grid()\n",
    "plt.show()\n"
   ]
  },
  {
   "attachments": {},
   "cell_type": "markdown",
   "metadata": {},
   "source": [
    "> Figure 5. Indoor temperature by using Euler\n",
    "[implicit](https://en.m.wikipedia.org/wiki/Numerical_methods_for_ordinary_differential_equations#Backward_Euler_method)\n",
    "and\n",
    "[explicit](https://en.m.wikipedia.org/wiki/Numerical_methods_for_ordinary_differential_equations#Euler_method) integration.\n"
   ]
  },
  {
   "cell_type": "code",
   "execution_count": 36,
   "id": "01a7c999",
   "metadata": {},
   "outputs": [
    {
     "name": "stdout",
     "output_type": "stream",
     "text": [
      "Steady-state indoor temperature obtained with:\n",
      "- DAE model 1: 17.4496 °C\n",
      "- DAE model 3: 19.0887 °C\n",
      "- state-space model in room 1 : 17.4330 °C\n",
      "- state-space model in room 2 : 18.9920 °C\n",
      "- steady-state response to step input: 17.2793 °C\n",
      "- steady-state response to step input: 18.7701 °C\n"
     ]
    }
   ],
   "source": [
    "print('Steady-state indoor temperature obtained with:')\n",
    "print(f'- DAE model 1: {float(θ[1]):.4f} °C')\n",
    "print(f'- DAE model 3: {float(θ[3]):.4f} °C')\n",
    "print(f'- state-space model in room 1 : {float(yss[0][0]):.4f} °C')\n",
    "print(f'- state-space model in room 2 : {float(yss[1][0]):.4f} °C')\n",
    "print(f'- steady-state response to step input: {float(y_exp[:, -2][0]):.4f} °C')\n",
    "print(f'- steady-state response to step input: {float(y_exp[:, -2][1]):.4f} °C')"
   ]
  }
 ],
 "metadata": {
  "kernelspec": {
   "display_name": "Python 3.9.13 ('base')",
   "language": "python",
   "name": "python3"
  },
  "language_info": {
   "codemirror_mode": {
    "name": "ipython",
    "version": 3
   },
   "file_extension": ".py",
   "mimetype": "text/x-python",
   "name": "python",
   "nbconvert_exporter": "python",
   "pygments_lexer": "ipython3",
   "version": "3.9.12"
  },
  "vscode": {
   "interpreter": {
    "hash": "ad2bdc8ecc057115af97d19610ffacc2b4e99fae6737bb82f5d7fb13d2f2c186"
   }
  }
 },
 "nbformat": 4,
 "nbformat_minor": 5
}
